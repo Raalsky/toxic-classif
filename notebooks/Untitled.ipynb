{
 "cells": [
  {
   "cell_type": "code",
   "execution_count": 1,
   "metadata": {},
   "outputs": [],
   "source": [
    "import tensorflow as tf\n",
    "import pandas as pd\n",
    "from pathlib import Path\n",
    "from transformers import *\n",
    "import tensorflow_datasets\n",
    "import pandas as pd\n",
    "import numpy as np\n",
    "import matplotlib.pyplot as plt\n",
    "import seaborn as sns\n",
    "from wordcloud import WordCloud, STOPWORDS\n",
    "import string\n",
    "import re\n",
    "import random\n",
    "import missingno as msno\n",
    "import tensorflow as tf\n",
    "import os\n",
    "import tensorflow_hub as hub\n",
    "%matplotlib inline"
   ]
  },
  {
   "cell_type": "code",
   "execution_count": 6,
   "metadata": {},
   "outputs": [
    {
     "name": "stdout",
     "output_type": "stream",
     "text": [
      "Collecting tensorflow_hub\n",
      "  Downloading tensorflow_hub-0.8.0-py2.py3-none-any.whl (101 kB)\n",
      "\u001b[K     |████████████████████████████████| 101 kB 263 kB/s ta 0:00:01\n",
      "\u001b[?25hRequirement already satisfied: numpy>=1.12.0 in /home/rjankowski/kopie_bitcoina/venv/lib/python3.6/site-packages (from tensorflow_hub) (1.18.4)\n",
      "Requirement already satisfied: protobuf>=3.8.0 in /home/rjankowski/kopie_bitcoina/venv/lib/python3.6/site-packages (from tensorflow_hub) (3.12.2)\n",
      "Requirement already satisfied: six>=1.12.0 in /home/rjankowski/kopie_bitcoina/venv/lib/python3.6/site-packages (from tensorflow_hub) (1.15.0)\n",
      "Requirement already satisfied: setuptools in /home/rjankowski/kopie_bitcoina/venv/lib/python3.6/site-packages (from protobuf>=3.8.0->tensorflow_hub) (47.1.1)\n",
      "Installing collected packages: tensorflow-hub\n",
      "Successfully installed tensorflow-hub-0.8.0\n"
     ]
    }
   ],
   "source": [
    "!pip install tensorflow_hub matplotlib seaborn wordcloud missingno"
   ]
  },
  {
   "cell_type": "code",
   "execution_count": 2,
   "metadata": {},
   "outputs": [],
   "source": [
    "!wget --quiet https://raw.githubusercontent.com/tensorflow/models/master/official/nlp/bert/tokenization.py"
   ]
  },
  {
   "cell_type": "code",
   "execution_count": 3,
   "metadata": {},
   "outputs": [],
   "source": [
    "import tokenization"
   ]
  },
  {
   "cell_type": "code",
   "execution_count": 4,
   "metadata": {},
   "outputs": [
    {
     "name": "stderr",
     "output_type": "stream",
     "text": [
      "INFO:absl:Using /tmp/tfhub_modules to cache modules.\n"
     ]
    }
   ],
   "source": [
    "bert_layer = hub.KerasLayer(\"https://tfhub.dev/tensorflow/bert_multi_cased_L-12_H-768_A-12/1\", trainable = False)"
   ]
  },
  {
   "cell_type": "code",
   "execution_count": 5,
   "metadata": {},
   "outputs": [
    {
     "data": {
      "text/plain": [
       "<tensorflow_hub.keras_layer.KerasLayer at 0x7f3afd310198>"
      ]
     },
     "execution_count": 5,
     "metadata": {},
     "output_type": "execute_result"
    }
   ],
   "source": [
    "bert_layer"
   ]
  },
  {
   "cell_type": "code",
   "execution_count": 6,
   "metadata": {},
   "outputs": [],
   "source": [
    "MAX_LEN = 128\n",
    "\n",
    "def make_tokenizer(bert_layer):\n",
    "    vocab_file = bert_layer.resolved_object.vocab_file.asset_path.numpy()\n",
    "    cased = bert_layer.resolved_object.do_lower_case.numpy()\n",
    "    tokenizer = tokenization.FullTokenizer(vocab_file, cased)\n",
    "  \n",
    "    return tokenizer\n",
    "\n",
    "tokenizer = make_tokenizer(bert_layer)"
   ]
  },
  {
   "cell_type": "code",
   "execution_count": 7,
   "metadata": {},
   "outputs": [
    {
     "data": {
      "text/plain": [
       "['Make', '##ing', 'samples', '.', 'Story', 'of', 'my', 'life', '.']"
      ]
     },
     "execution_count": 7,
     "metadata": {},
     "output_type": "execute_result"
    }
   ],
   "source": [
    "tokenizer.tokenize('Makeing samples. Story of my life.')"
   ]
  },
  {
   "cell_type": "code",
   "execution_count": 1,
   "metadata": {},
   "outputs": [],
   "source": [
    "import tensorflow as tf\n",
    "import numpy as np\n",
    "from transformers import TFRobertaModel, RobertaTokenizer\n",
    "from tensorflow.keras.layers import Input, Dense\n",
    "from tensorflow.keras.models import Model"
   ]
  },
  {
   "cell_type": "code",
   "execution_count": 2,
   "metadata": {},
   "outputs": [
    {
     "name": "stdout",
     "output_type": "stream",
     "text": [
      "Requirement already satisfied: ipywidgets in /home/rjankowski/kopie_bitcoina/venv/lib/python3.6/site-packages (7.5.1)\n",
      "Requirement already satisfied: widgetsnbextension~=3.5.0 in /home/rjankowski/kopie_bitcoina/venv/lib/python3.6/site-packages (from ipywidgets) (3.5.1)\n",
      "Requirement already satisfied: traitlets>=4.3.1 in /home/rjankowski/kopie_bitcoina/venv/lib/python3.6/site-packages (from ipywidgets) (4.3.3)\n",
      "Requirement already satisfied: ipykernel>=4.5.1 in /home/rjankowski/kopie_bitcoina/venv/lib/python3.6/site-packages (from ipywidgets) (5.3.0)\n",
      "Requirement already satisfied: nbformat>=4.2.0 in /home/rjankowski/kopie_bitcoina/venv/lib/python3.6/site-packages (from ipywidgets) (5.0.6)\n",
      "Requirement already satisfied: ipython>=4.0.0; python_version >= \"3.3\" in /home/rjankowski/kopie_bitcoina/venv/lib/python3.6/site-packages (from ipywidgets) (7.15.0)\n",
      "Requirement already satisfied: notebook>=4.4.1 in /home/rjankowski/kopie_bitcoina/venv/lib/python3.6/site-packages (from widgetsnbextension~=3.5.0->ipywidgets) (6.0.3)\n",
      "Requirement already satisfied: six in /home/rjankowski/kopie_bitcoina/venv/lib/python3.6/site-packages (from traitlets>=4.3.1->ipywidgets) (1.15.0)\n",
      "Requirement already satisfied: decorator in /home/rjankowski/kopie_bitcoina/venv/lib/python3.6/site-packages (from traitlets>=4.3.1->ipywidgets) (4.4.2)\n",
      "Requirement already satisfied: ipython-genutils in /home/rjankowski/kopie_bitcoina/venv/lib/python3.6/site-packages (from traitlets>=4.3.1->ipywidgets) (0.2.0)\n",
      "Requirement already satisfied: tornado>=4.2 in /home/rjankowski/kopie_bitcoina/venv/lib/python3.6/site-packages (from ipykernel>=4.5.1->ipywidgets) (6.0.4)\n",
      "Requirement already satisfied: jupyter-client in /home/rjankowski/kopie_bitcoina/venv/lib/python3.6/site-packages (from ipykernel>=4.5.1->ipywidgets) (6.1.3)\n",
      "Requirement already satisfied: jsonschema!=2.5.0,>=2.4 in /home/rjankowski/kopie_bitcoina/venv/lib/python3.6/site-packages (from nbformat>=4.2.0->ipywidgets) (3.2.0)\n",
      "Requirement already satisfied: jupyter-core in /home/rjankowski/kopie_bitcoina/venv/lib/python3.6/site-packages (from nbformat>=4.2.0->ipywidgets) (4.6.3)\n",
      "Requirement already satisfied: setuptools>=18.5 in /home/rjankowski/kopie_bitcoina/venv/lib/python3.6/site-packages (from ipython>=4.0.0; python_version >= \"3.3\"->ipywidgets) (47.1.1)\n",
      "Requirement already satisfied: pexpect; sys_platform != \"win32\" in /home/rjankowski/kopie_bitcoina/venv/lib/python3.6/site-packages (from ipython>=4.0.0; python_version >= \"3.3\"->ipywidgets) (4.8.0)\n",
      "Requirement already satisfied: pickleshare in /home/rjankowski/kopie_bitcoina/venv/lib/python3.6/site-packages (from ipython>=4.0.0; python_version >= \"3.3\"->ipywidgets) (0.7.5)\n",
      "Requirement already satisfied: backcall in /home/rjankowski/kopie_bitcoina/venv/lib/python3.6/site-packages (from ipython>=4.0.0; python_version >= \"3.3\"->ipywidgets) (0.1.0)\n",
      "Requirement already satisfied: prompt-toolkit!=3.0.0,!=3.0.1,<3.1.0,>=2.0.0 in /home/rjankowski/kopie_bitcoina/venv/lib/python3.6/site-packages (from ipython>=4.0.0; python_version >= \"3.3\"->ipywidgets) (3.0.5)\n",
      "Requirement already satisfied: pygments in /home/rjankowski/kopie_bitcoina/venv/lib/python3.6/site-packages (from ipython>=4.0.0; python_version >= \"3.3\"->ipywidgets) (2.6.1)\n",
      "Requirement already satisfied: jedi>=0.10 in /home/rjankowski/kopie_bitcoina/venv/lib/python3.6/site-packages (from ipython>=4.0.0; python_version >= \"3.3\"->ipywidgets) (0.17.0)\n",
      "Requirement already satisfied: terminado>=0.8.1 in /home/rjankowski/kopie_bitcoina/venv/lib/python3.6/site-packages (from notebook>=4.4.1->widgetsnbextension~=3.5.0->ipywidgets) (0.8.3)\n",
      "Requirement already satisfied: Send2Trash in /home/rjankowski/kopie_bitcoina/venv/lib/python3.6/site-packages (from notebook>=4.4.1->widgetsnbextension~=3.5.0->ipywidgets) (1.5.0)\n",
      "Requirement already satisfied: prometheus-client in /home/rjankowski/kopie_bitcoina/venv/lib/python3.6/site-packages (from notebook>=4.4.1->widgetsnbextension~=3.5.0->ipywidgets) (0.8.0)\n",
      "Requirement already satisfied: jinja2 in /home/rjankowski/kopie_bitcoina/venv/lib/python3.6/site-packages (from notebook>=4.4.1->widgetsnbextension~=3.5.0->ipywidgets) (2.11.2)\n",
      "Requirement already satisfied: nbconvert in /home/rjankowski/kopie_bitcoina/venv/lib/python3.6/site-packages (from notebook>=4.4.1->widgetsnbextension~=3.5.0->ipywidgets) (5.6.1)\n",
      "Requirement already satisfied: pyzmq>=17 in /home/rjankowski/kopie_bitcoina/venv/lib/python3.6/site-packages (from notebook>=4.4.1->widgetsnbextension~=3.5.0->ipywidgets) (19.0.1)\n",
      "Requirement already satisfied: python-dateutil>=2.1 in /home/rjankowski/kopie_bitcoina/venv/lib/python3.6/site-packages (from jupyter-client->ipykernel>=4.5.1->ipywidgets) (2.8.1)\n",
      "Requirement already satisfied: pyrsistent>=0.14.0 in /home/rjankowski/kopie_bitcoina/venv/lib/python3.6/site-packages (from jsonschema!=2.5.0,>=2.4->nbformat>=4.2.0->ipywidgets) (0.16.0)\n",
      "Requirement already satisfied: importlib-metadata; python_version < \"3.8\" in /home/rjankowski/kopie_bitcoina/venv/lib/python3.6/site-packages (from jsonschema!=2.5.0,>=2.4->nbformat>=4.2.0->ipywidgets) (1.6.0)\n",
      "Requirement already satisfied: attrs>=17.4.0 in /home/rjankowski/kopie_bitcoina/venv/lib/python3.6/site-packages (from jsonschema!=2.5.0,>=2.4->nbformat>=4.2.0->ipywidgets) (19.3.0)\n",
      "Requirement already satisfied: ptyprocess>=0.5 in /home/rjankowski/kopie_bitcoina/venv/lib/python3.6/site-packages (from pexpect; sys_platform != \"win32\"->ipython>=4.0.0; python_version >= \"3.3\"->ipywidgets) (0.6.0)\n",
      "Requirement already satisfied: wcwidth in /home/rjankowski/kopie_bitcoina/venv/lib/python3.6/site-packages (from prompt-toolkit!=3.0.0,!=3.0.1,<3.1.0,>=2.0.0->ipython>=4.0.0; python_version >= \"3.3\"->ipywidgets) (0.1.9)\n",
      "Requirement already satisfied: parso>=0.7.0 in /home/rjankowski/kopie_bitcoina/venv/lib/python3.6/site-packages (from jedi>=0.10->ipython>=4.0.0; python_version >= \"3.3\"->ipywidgets) (0.7.0)\n",
      "Requirement already satisfied: MarkupSafe>=0.23 in /home/rjankowski/kopie_bitcoina/venv/lib/python3.6/site-packages (from jinja2->notebook>=4.4.1->widgetsnbextension~=3.5.0->ipywidgets) (1.1.1)\n",
      "Requirement already satisfied: defusedxml in /home/rjankowski/kopie_bitcoina/venv/lib/python3.6/site-packages (from nbconvert->notebook>=4.4.1->widgetsnbextension~=3.5.0->ipywidgets) (0.6.0)\n",
      "Requirement already satisfied: testpath in /home/rjankowski/kopie_bitcoina/venv/lib/python3.6/site-packages (from nbconvert->notebook>=4.4.1->widgetsnbextension~=3.5.0->ipywidgets) (0.4.4)\n",
      "Requirement already satisfied: mistune<2,>=0.8.1 in /home/rjankowski/kopie_bitcoina/venv/lib/python3.6/site-packages (from nbconvert->notebook>=4.4.1->widgetsnbextension~=3.5.0->ipywidgets) (0.8.4)\n",
      "Requirement already satisfied: bleach in /home/rjankowski/kopie_bitcoina/venv/lib/python3.6/site-packages (from nbconvert->notebook>=4.4.1->widgetsnbextension~=3.5.0->ipywidgets) (3.1.5)\n",
      "Requirement already satisfied: pandocfilters>=1.4.1 in /home/rjankowski/kopie_bitcoina/venv/lib/python3.6/site-packages (from nbconvert->notebook>=4.4.1->widgetsnbextension~=3.5.0->ipywidgets) (1.4.2)\n",
      "Requirement already satisfied: entrypoints>=0.2.2 in /home/rjankowski/kopie_bitcoina/venv/lib/python3.6/site-packages (from nbconvert->notebook>=4.4.1->widgetsnbextension~=3.5.0->ipywidgets) (0.3)\n",
      "Requirement already satisfied: zipp>=0.5 in /home/rjankowski/kopie_bitcoina/venv/lib/python3.6/site-packages (from importlib-metadata; python_version < \"3.8\"->jsonschema!=2.5.0,>=2.4->nbformat>=4.2.0->ipywidgets) (3.1.0)\n",
      "Requirement already satisfied: packaging in /home/rjankowski/kopie_bitcoina/venv/lib/python3.6/site-packages (from bleach->nbconvert->notebook>=4.4.1->widgetsnbextension~=3.5.0->ipywidgets) (20.4)\n",
      "Requirement already satisfied: webencodings in /home/rjankowski/kopie_bitcoina/venv/lib/python3.6/site-packages (from bleach->nbconvert->notebook>=4.4.1->widgetsnbextension~=3.5.0->ipywidgets) (0.5.1)\n",
      "Requirement already satisfied: pyparsing>=2.0.2 in /home/rjankowski/kopie_bitcoina/venv/lib/python3.6/site-packages (from packaging->bleach->nbconvert->notebook>=4.4.1->widgetsnbextension~=3.5.0->ipywidgets) (2.4.7)\n"
     ]
    }
   ],
   "source": [
    "!pip install ipywidgets"
   ]
  },
  {
   "cell_type": "code",
   "execution_count": 3,
   "metadata": {},
   "outputs": [
    {
     "name": "stdout",
     "output_type": "stream",
     "text": [
      "Enabling notebook extension jupyter-js-widgets/extension...\n",
      "      - Validating: \u001b[32mOK\u001b[0m\n"
     ]
    }
   ],
   "source": [
    "!jupyter nbextension enable --py widgetsnbextension"
   ]
  },
  {
   "cell_type": "code",
   "execution_count": 5,
   "metadata": {},
   "outputs": [],
   "source": [
    "# Define input layer\n",
    "inputs  = Input(shape=(None, ))"
   ]
  },
  {
   "cell_type": "code",
   "execution_count": 6,
   "metadata": {},
   "outputs": [],
   "source": [
    "# Define Roberta a document encoder\n",
    "roberta_model = TFRobertaModel.from_pretrained('roberta-base')"
   ]
  },
  {
   "cell_type": "code",
   "execution_count": 7,
   "metadata": {},
   "outputs": [
    {
     "ename": "TypeError",
     "evalue": "in user code:\n\n    /home/rjankowski/kopie_bitcoina/venv/lib/python3.6/site-packages/transformers/modeling_tf_roberta.py:224 call  *\n        outputs = self.roberta(inputs, **kwargs)\n    /home/rjankowski/kopie_bitcoina/venv/lib/python3.6/site-packages/transformers/modeling_tf_bert.py:570 call  *\n        embedding_output = self.embeddings([input_ids, position_ids, token_type_ids, inputs_embeds], training=training)\n    /home/rjankowski/kopie_bitcoina/venv/lib/python3.6/site-packages/tensorflow/python/keras/engine/base_layer.py:968 __call__  **\n        outputs = self.call(cast_inputs, *args, **kwargs)\n    /home/rjankowski/kopie_bitcoina/venv/lib/python3.6/site-packages/transformers/modeling_tf_bert.py:149 call\n        return self._embedding(inputs, training=training)\n    /home/rjankowski/kopie_bitcoina/venv/lib/python3.6/site-packages/transformers/modeling_tf_roberta.py:81 _embedding\n        return super()._embedding([input_ids, position_ids, token_type_ids, inputs_embeds], training=training)\n    /home/rjankowski/kopie_bitcoina/venv/lib/python3.6/site-packages/transformers/modeling_tf_bert.py:171 _embedding\n        inputs_embeds = tf.gather(self.word_embeddings, input_ids)\n    /home/rjankowski/kopie_bitcoina/venv/lib/python3.6/site-packages/tensorflow/python/util/dispatch.py:180 wrapper\n        return target(*args, **kwargs)\n    /home/rjankowski/kopie_bitcoina/venv/lib/python3.6/site-packages/tensorflow/python/ops/array_ops.py:4541 gather_v2\n        batch_dims=batch_dims)\n    /home/rjankowski/kopie_bitcoina/venv/lib/python3.6/site-packages/tensorflow/python/util/dispatch.py:180 wrapper\n        return target(*args, **kwargs)\n    /home/rjankowski/kopie_bitcoina/venv/lib/python3.6/site-packages/tensorflow/python/ops/array_ops.py:4522 gather\n        return params.sparse_read(indices, name=name)\n    /home/rjankowski/kopie_bitcoina/venv/lib/python3.6/site-packages/tensorflow/python/ops/resource_variable_ops.py:676 sparse_read\n        self._handle, indices, dtype=self._dtype, name=name)\n    /home/rjankowski/kopie_bitcoina/venv/lib/python3.6/site-packages/tensorflow/python/ops/gen_resource_variable_ops.py:568 resource_gather\n        validate_indices=validate_indices, name=name)\n    /home/rjankowski/kopie_bitcoina/venv/lib/python3.6/site-packages/tensorflow/python/framework/op_def_library.py:578 _apply_op_helper\n        param_name=input_name)\n    /home/rjankowski/kopie_bitcoina/venv/lib/python3.6/site-packages/tensorflow/python/framework/op_def_library.py:61 _SatisfiesTypeConstraint\n        \", \".join(dtypes.as_dtype(x).name for x in allowed_list)))\n\n    TypeError: Value passed to parameter 'indices' has DataType float32 not in list of allowed values: int32, int64\n",
     "output_type": "error",
     "traceback": [
      "\u001b[0;31m---------------------------------------------------------------------------\u001b[0m",
      "\u001b[0;31mTypeError\u001b[0m                                 Traceback (most recent call last)",
      "\u001b[0;32m<ipython-input-7-6535ad42757e>\u001b[0m in \u001b[0;36m<module>\u001b[0;34m\u001b[0m\n\u001b[1;32m      1\u001b[0m \u001b[0;31m# Collect hidden state representations\u001b[0m\u001b[0;34m\u001b[0m\u001b[0;34m\u001b[0m\u001b[0;34m\u001b[0m\u001b[0m\n\u001b[0;32m----> 2\u001b[0;31m \u001b[0mroberta_encodings\u001b[0m \u001b[0;34m=\u001b[0m \u001b[0mroberta_model\u001b[0m\u001b[0;34m(\u001b[0m\u001b[0minputs\u001b[0m\u001b[0;34m)\u001b[0m\u001b[0;34m[\u001b[0m\u001b[0;36m0\u001b[0m\u001b[0;34m]\u001b[0m\u001b[0;34m\u001b[0m\u001b[0;34m\u001b[0m\u001b[0m\n\u001b[0m",
      "\u001b[0;32m~/kopie_bitcoina/venv/lib/python3.6/site-packages/tensorflow/python/keras/engine/base_layer.py\u001b[0m in \u001b[0;36m__call__\u001b[0;34m(self, *args, **kwargs)\u001b[0m\n\u001b[1;32m    920\u001b[0m                     not base_layer_utils.is_in_eager_or_tf_function()):\n\u001b[1;32m    921\u001b[0m                   \u001b[0;32mwith\u001b[0m \u001b[0mauto_control_deps\u001b[0m\u001b[0;34m.\u001b[0m\u001b[0mAutomaticControlDependencies\u001b[0m\u001b[0;34m(\u001b[0m\u001b[0;34m)\u001b[0m \u001b[0;32mas\u001b[0m \u001b[0macd\u001b[0m\u001b[0;34m:\u001b[0m\u001b[0;34m\u001b[0m\u001b[0;34m\u001b[0m\u001b[0m\n\u001b[0;32m--> 922\u001b[0;31m                     \u001b[0moutputs\u001b[0m \u001b[0;34m=\u001b[0m \u001b[0mcall_fn\u001b[0m\u001b[0;34m(\u001b[0m\u001b[0mcast_inputs\u001b[0m\u001b[0;34m,\u001b[0m \u001b[0;34m*\u001b[0m\u001b[0margs\u001b[0m\u001b[0;34m,\u001b[0m \u001b[0;34m**\u001b[0m\u001b[0mkwargs\u001b[0m\u001b[0;34m)\u001b[0m\u001b[0;34m\u001b[0m\u001b[0;34m\u001b[0m\u001b[0m\n\u001b[0m\u001b[1;32m    923\u001b[0m                     \u001b[0;31m# Wrap Tensors in `outputs` in `tf.identity` to avoid\u001b[0m\u001b[0;34m\u001b[0m\u001b[0;34m\u001b[0m\u001b[0;34m\u001b[0m\u001b[0m\n\u001b[1;32m    924\u001b[0m                     \u001b[0;31m# circular dependencies.\u001b[0m\u001b[0;34m\u001b[0m\u001b[0;34m\u001b[0m\u001b[0;34m\u001b[0m\u001b[0m\n",
      "\u001b[0;32m~/kopie_bitcoina/venv/lib/python3.6/site-packages/tensorflow/python/autograph/impl/api.py\u001b[0m in \u001b[0;36mwrapper\u001b[0;34m(*args, **kwargs)\u001b[0m\n\u001b[1;32m    263\u001b[0m       \u001b[0;32mexcept\u001b[0m \u001b[0mException\u001b[0m \u001b[0;32mas\u001b[0m \u001b[0me\u001b[0m\u001b[0;34m:\u001b[0m  \u001b[0;31m# pylint:disable=broad-except\u001b[0m\u001b[0;34m\u001b[0m\u001b[0;34m\u001b[0m\u001b[0m\n\u001b[1;32m    264\u001b[0m         \u001b[0;32mif\u001b[0m \u001b[0mhasattr\u001b[0m\u001b[0;34m(\u001b[0m\u001b[0me\u001b[0m\u001b[0;34m,\u001b[0m \u001b[0;34m'ag_error_metadata'\u001b[0m\u001b[0;34m)\u001b[0m\u001b[0;34m:\u001b[0m\u001b[0;34m\u001b[0m\u001b[0;34m\u001b[0m\u001b[0m\n\u001b[0;32m--> 265\u001b[0;31m           \u001b[0;32mraise\u001b[0m \u001b[0me\u001b[0m\u001b[0;34m.\u001b[0m\u001b[0mag_error_metadata\u001b[0m\u001b[0;34m.\u001b[0m\u001b[0mto_exception\u001b[0m\u001b[0;34m(\u001b[0m\u001b[0me\u001b[0m\u001b[0;34m)\u001b[0m\u001b[0;34m\u001b[0m\u001b[0;34m\u001b[0m\u001b[0m\n\u001b[0m\u001b[1;32m    266\u001b[0m         \u001b[0;32melse\u001b[0m\u001b[0;34m:\u001b[0m\u001b[0;34m\u001b[0m\u001b[0;34m\u001b[0m\u001b[0m\n\u001b[1;32m    267\u001b[0m           \u001b[0;32mraise\u001b[0m\u001b[0;34m\u001b[0m\u001b[0;34m\u001b[0m\u001b[0m\n",
      "\u001b[0;31mTypeError\u001b[0m: in user code:\n\n    /home/rjankowski/kopie_bitcoina/venv/lib/python3.6/site-packages/transformers/modeling_tf_roberta.py:224 call  *\n        outputs = self.roberta(inputs, **kwargs)\n    /home/rjankowski/kopie_bitcoina/venv/lib/python3.6/site-packages/transformers/modeling_tf_bert.py:570 call  *\n        embedding_output = self.embeddings([input_ids, position_ids, token_type_ids, inputs_embeds], training=training)\n    /home/rjankowski/kopie_bitcoina/venv/lib/python3.6/site-packages/tensorflow/python/keras/engine/base_layer.py:968 __call__  **\n        outputs = self.call(cast_inputs, *args, **kwargs)\n    /home/rjankowski/kopie_bitcoina/venv/lib/python3.6/site-packages/transformers/modeling_tf_bert.py:149 call\n        return self._embedding(inputs, training=training)\n    /home/rjankowski/kopie_bitcoina/venv/lib/python3.6/site-packages/transformers/modeling_tf_roberta.py:81 _embedding\n        return super()._embedding([input_ids, position_ids, token_type_ids, inputs_embeds], training=training)\n    /home/rjankowski/kopie_bitcoina/venv/lib/python3.6/site-packages/transformers/modeling_tf_bert.py:171 _embedding\n        inputs_embeds = tf.gather(self.word_embeddings, input_ids)\n    /home/rjankowski/kopie_bitcoina/venv/lib/python3.6/site-packages/tensorflow/python/util/dispatch.py:180 wrapper\n        return target(*args, **kwargs)\n    /home/rjankowski/kopie_bitcoina/venv/lib/python3.6/site-packages/tensorflow/python/ops/array_ops.py:4541 gather_v2\n        batch_dims=batch_dims)\n    /home/rjankowski/kopie_bitcoina/venv/lib/python3.6/site-packages/tensorflow/python/util/dispatch.py:180 wrapper\n        return target(*args, **kwargs)\n    /home/rjankowski/kopie_bitcoina/venv/lib/python3.6/site-packages/tensorflow/python/ops/array_ops.py:4522 gather\n        return params.sparse_read(indices, name=name)\n    /home/rjankowski/kopie_bitcoina/venv/lib/python3.6/site-packages/tensorflow/python/ops/resource_variable_ops.py:676 sparse_read\n        self._handle, indices, dtype=self._dtype, name=name)\n    /home/rjankowski/kopie_bitcoina/venv/lib/python3.6/site-packages/tensorflow/python/ops/gen_resource_variable_ops.py:568 resource_gather\n        validate_indices=validate_indices, name=name)\n    /home/rjankowski/kopie_bitcoina/venv/lib/python3.6/site-packages/tensorflow/python/framework/op_def_library.py:578 _apply_op_helper\n        param_name=input_name)\n    /home/rjankowski/kopie_bitcoina/venv/lib/python3.6/site-packages/tensorflow/python/framework/op_def_library.py:61 _SatisfiesTypeConstraint\n        \", \".join(dtypes.as_dtype(x).name for x in allowed_list)))\n\n    TypeError: Value passed to parameter 'indices' has DataType float32 not in list of allowed values: int32, int64\n"
     ]
    }
   ],
   "source": [
    "# Collect hidden state representations\n",
    "roberta_encodings = roberta_model(inputs)[0]"
   ]
  },
  {
   "cell_type": "code",
   "execution_count": null,
   "metadata": {},
   "outputs": [],
   "source": [
    "\n",
    "# Collect CLS representations\n",
    "document_encodings = tf.squeeze(roberta_encodings[:, 0:1, :], axis=1)\n",
    "\n",
    "# Add classification layer (Linear + Sigmoid)\n",
    "outputs =  Dense(10, activation='sigmoid')(document_encodings)\n",
    "\n",
    "# Build meta-model\n",
    "model = Model(inputs=[inputs], outputs=[outputs])"
   ]
  },
  {
   "cell_type": "code",
   "execution_count": null,
   "metadata": {},
   "outputs": [],
   "source": [
    "# Compile model\n",
    "model.compile(optimizer='adam',  loss='binary_crossentropy')"
   ]
  },
  {
   "cell_type": "code",
   "execution_count": null,
   "metadata": {},
   "outputs": [],
   "source": [
    "# Train model\n",
    "tokenizer = RobertaTokenizer.from_pretrained('roberta-base')\n",
    "x = np.asarray(tokenizer.encode(\"Hello, my dog is cute\", add_special_tokens=True))[None, :]\n",
    "y = tf.convert_to_tensor(np.zeros((1,10)), dtype=tf.float32)\n",
    "model.fit(x, y)"
   ]
  },
  {
   "cell_type": "code",
   "execution_count": 3,
   "metadata": {},
   "outputs": [],
   "source": [
    "import tensorflow as tf\n",
    "import numpy as np\n",
    "from transformers import TFRobertaModel, RobertaTokenizer\n",
    "from tensorflow.keras.layers import Input, Dense\n",
    "from tensorflow.keras.models import Model\n",
    "\n",
    "# Define input layer\n",
    "inputs  = Input(shape=(None, ))\n",
    "\n",
    "# Define Roberta a document encoder\n",
    "roberta_model = TFRobertaModel.from_pretrained('roberta-base')"
   ]
  },
  {
   "cell_type": "code",
   "execution_count": 4,
   "metadata": {},
   "outputs": [
    {
     "data": {
      "text/plain": [
       "transformers.modeling_tf_roberta.TFRobertaModel"
      ]
     },
     "execution_count": 4,
     "metadata": {},
     "output_type": "execute_result"
    }
   ],
   "source": [
    "type(roberta_model)"
   ]
  },
  {
   "cell_type": "code",
   "execution_count": 5,
   "metadata": {},
   "outputs": [
    {
     "ename": "TypeError",
     "evalue": "in user code:\n\n    /home/rjankowski/kopie_bitcoina/venv/lib/python3.6/site-packages/transformers/modeling_tf_roberta.py:224 call  *\n        outputs = self.roberta(inputs, **kwargs)\n    /home/rjankowski/kopie_bitcoina/venv/lib/python3.6/site-packages/transformers/modeling_tf_bert.py:570 call  *\n        embedding_output = self.embeddings([input_ids, position_ids, token_type_ids, inputs_embeds], training=training)\n    /home/rjankowski/kopie_bitcoina/venv/lib/python3.6/site-packages/tensorflow/python/keras/engine/base_layer.py:968 __call__  **\n        outputs = self.call(cast_inputs, *args, **kwargs)\n    /home/rjankowski/kopie_bitcoina/venv/lib/python3.6/site-packages/transformers/modeling_tf_bert.py:149 call\n        return self._embedding(inputs, training=training)\n    /home/rjankowski/kopie_bitcoina/venv/lib/python3.6/site-packages/transformers/modeling_tf_roberta.py:81 _embedding\n        return super()._embedding([input_ids, position_ids, token_type_ids, inputs_embeds], training=training)\n    /home/rjankowski/kopie_bitcoina/venv/lib/python3.6/site-packages/transformers/modeling_tf_bert.py:171 _embedding\n        inputs_embeds = tf.gather(self.word_embeddings, input_ids)\n    /home/rjankowski/kopie_bitcoina/venv/lib/python3.6/site-packages/tensorflow/python/util/dispatch.py:180 wrapper\n        return target(*args, **kwargs)\n    /home/rjankowski/kopie_bitcoina/venv/lib/python3.6/site-packages/tensorflow/python/ops/array_ops.py:4541 gather_v2\n        batch_dims=batch_dims)\n    /home/rjankowski/kopie_bitcoina/venv/lib/python3.6/site-packages/tensorflow/python/util/dispatch.py:180 wrapper\n        return target(*args, **kwargs)\n    /home/rjankowski/kopie_bitcoina/venv/lib/python3.6/site-packages/tensorflow/python/ops/array_ops.py:4522 gather\n        return params.sparse_read(indices, name=name)\n    /home/rjankowski/kopie_bitcoina/venv/lib/python3.6/site-packages/tensorflow/python/ops/resource_variable_ops.py:676 sparse_read\n        self._handle, indices, dtype=self._dtype, name=name)\n    /home/rjankowski/kopie_bitcoina/venv/lib/python3.6/site-packages/tensorflow/python/ops/gen_resource_variable_ops.py:568 resource_gather\n        validate_indices=validate_indices, name=name)\n    /home/rjankowski/kopie_bitcoina/venv/lib/python3.6/site-packages/tensorflow/python/framework/op_def_library.py:578 _apply_op_helper\n        param_name=input_name)\n    /home/rjankowski/kopie_bitcoina/venv/lib/python3.6/site-packages/tensorflow/python/framework/op_def_library.py:61 _SatisfiesTypeConstraint\n        \", \".join(dtypes.as_dtype(x).name for x in allowed_list)))\n\n    TypeError: Value passed to parameter 'indices' has DataType float32 not in list of allowed values: int32, int64\n",
     "output_type": "error",
     "traceback": [
      "\u001b[0;31m---------------------------------------------------------------------------\u001b[0m",
      "\u001b[0;31mTypeError\u001b[0m                                 Traceback (most recent call last)",
      "\u001b[0;32m<ipython-input-5-84ea2951cd9e>\u001b[0m in \u001b[0;36m<module>\u001b[0;34m\u001b[0m\n\u001b[0;32m----> 1\u001b[0;31m \u001b[0mroberta_model\u001b[0m\u001b[0;34m(\u001b[0m\u001b[0minputs\u001b[0m\u001b[0;34m)\u001b[0m\u001b[0;34m\u001b[0m\u001b[0;34m\u001b[0m\u001b[0m\n\u001b[0m",
      "\u001b[0;32m~/kopie_bitcoina/venv/lib/python3.6/site-packages/tensorflow/python/keras/engine/base_layer.py\u001b[0m in \u001b[0;36m__call__\u001b[0;34m(self, *args, **kwargs)\u001b[0m\n\u001b[1;32m    920\u001b[0m                     not base_layer_utils.is_in_eager_or_tf_function()):\n\u001b[1;32m    921\u001b[0m                   \u001b[0;32mwith\u001b[0m \u001b[0mauto_control_deps\u001b[0m\u001b[0;34m.\u001b[0m\u001b[0mAutomaticControlDependencies\u001b[0m\u001b[0;34m(\u001b[0m\u001b[0;34m)\u001b[0m \u001b[0;32mas\u001b[0m \u001b[0macd\u001b[0m\u001b[0;34m:\u001b[0m\u001b[0;34m\u001b[0m\u001b[0;34m\u001b[0m\u001b[0m\n\u001b[0;32m--> 922\u001b[0;31m                     \u001b[0moutputs\u001b[0m \u001b[0;34m=\u001b[0m \u001b[0mcall_fn\u001b[0m\u001b[0;34m(\u001b[0m\u001b[0mcast_inputs\u001b[0m\u001b[0;34m,\u001b[0m \u001b[0;34m*\u001b[0m\u001b[0margs\u001b[0m\u001b[0;34m,\u001b[0m \u001b[0;34m**\u001b[0m\u001b[0mkwargs\u001b[0m\u001b[0;34m)\u001b[0m\u001b[0;34m\u001b[0m\u001b[0;34m\u001b[0m\u001b[0m\n\u001b[0m\u001b[1;32m    923\u001b[0m                     \u001b[0;31m# Wrap Tensors in `outputs` in `tf.identity` to avoid\u001b[0m\u001b[0;34m\u001b[0m\u001b[0;34m\u001b[0m\u001b[0;34m\u001b[0m\u001b[0m\n\u001b[1;32m    924\u001b[0m                     \u001b[0;31m# circular dependencies.\u001b[0m\u001b[0;34m\u001b[0m\u001b[0;34m\u001b[0m\u001b[0;34m\u001b[0m\u001b[0m\n",
      "\u001b[0;32m~/kopie_bitcoina/venv/lib/python3.6/site-packages/tensorflow/python/autograph/impl/api.py\u001b[0m in \u001b[0;36mwrapper\u001b[0;34m(*args, **kwargs)\u001b[0m\n\u001b[1;32m    263\u001b[0m       \u001b[0;32mexcept\u001b[0m \u001b[0mException\u001b[0m \u001b[0;32mas\u001b[0m \u001b[0me\u001b[0m\u001b[0;34m:\u001b[0m  \u001b[0;31m# pylint:disable=broad-except\u001b[0m\u001b[0;34m\u001b[0m\u001b[0;34m\u001b[0m\u001b[0m\n\u001b[1;32m    264\u001b[0m         \u001b[0;32mif\u001b[0m \u001b[0mhasattr\u001b[0m\u001b[0;34m(\u001b[0m\u001b[0me\u001b[0m\u001b[0;34m,\u001b[0m \u001b[0;34m'ag_error_metadata'\u001b[0m\u001b[0;34m)\u001b[0m\u001b[0;34m:\u001b[0m\u001b[0;34m\u001b[0m\u001b[0;34m\u001b[0m\u001b[0m\n\u001b[0;32m--> 265\u001b[0;31m           \u001b[0;32mraise\u001b[0m \u001b[0me\u001b[0m\u001b[0;34m.\u001b[0m\u001b[0mag_error_metadata\u001b[0m\u001b[0;34m.\u001b[0m\u001b[0mto_exception\u001b[0m\u001b[0;34m(\u001b[0m\u001b[0me\u001b[0m\u001b[0;34m)\u001b[0m\u001b[0;34m\u001b[0m\u001b[0;34m\u001b[0m\u001b[0m\n\u001b[0m\u001b[1;32m    266\u001b[0m         \u001b[0;32melse\u001b[0m\u001b[0;34m:\u001b[0m\u001b[0;34m\u001b[0m\u001b[0;34m\u001b[0m\u001b[0m\n\u001b[1;32m    267\u001b[0m           \u001b[0;32mraise\u001b[0m\u001b[0;34m\u001b[0m\u001b[0;34m\u001b[0m\u001b[0m\n",
      "\u001b[0;31mTypeError\u001b[0m: in user code:\n\n    /home/rjankowski/kopie_bitcoina/venv/lib/python3.6/site-packages/transformers/modeling_tf_roberta.py:224 call  *\n        outputs = self.roberta(inputs, **kwargs)\n    /home/rjankowski/kopie_bitcoina/venv/lib/python3.6/site-packages/transformers/modeling_tf_bert.py:570 call  *\n        embedding_output = self.embeddings([input_ids, position_ids, token_type_ids, inputs_embeds], training=training)\n    /home/rjankowski/kopie_bitcoina/venv/lib/python3.6/site-packages/tensorflow/python/keras/engine/base_layer.py:968 __call__  **\n        outputs = self.call(cast_inputs, *args, **kwargs)\n    /home/rjankowski/kopie_bitcoina/venv/lib/python3.6/site-packages/transformers/modeling_tf_bert.py:149 call\n        return self._embedding(inputs, training=training)\n    /home/rjankowski/kopie_bitcoina/venv/lib/python3.6/site-packages/transformers/modeling_tf_roberta.py:81 _embedding\n        return super()._embedding([input_ids, position_ids, token_type_ids, inputs_embeds], training=training)\n    /home/rjankowski/kopie_bitcoina/venv/lib/python3.6/site-packages/transformers/modeling_tf_bert.py:171 _embedding\n        inputs_embeds = tf.gather(self.word_embeddings, input_ids)\n    /home/rjankowski/kopie_bitcoina/venv/lib/python3.6/site-packages/tensorflow/python/util/dispatch.py:180 wrapper\n        return target(*args, **kwargs)\n    /home/rjankowski/kopie_bitcoina/venv/lib/python3.6/site-packages/tensorflow/python/ops/array_ops.py:4541 gather_v2\n        batch_dims=batch_dims)\n    /home/rjankowski/kopie_bitcoina/venv/lib/python3.6/site-packages/tensorflow/python/util/dispatch.py:180 wrapper\n        return target(*args, **kwargs)\n    /home/rjankowski/kopie_bitcoina/venv/lib/python3.6/site-packages/tensorflow/python/ops/array_ops.py:4522 gather\n        return params.sparse_read(indices, name=name)\n    /home/rjankowski/kopie_bitcoina/venv/lib/python3.6/site-packages/tensorflow/python/ops/resource_variable_ops.py:676 sparse_read\n        self._handle, indices, dtype=self._dtype, name=name)\n    /home/rjankowski/kopie_bitcoina/venv/lib/python3.6/site-packages/tensorflow/python/ops/gen_resource_variable_ops.py:568 resource_gather\n        validate_indices=validate_indices, name=name)\n    /home/rjankowski/kopie_bitcoina/venv/lib/python3.6/site-packages/tensorflow/python/framework/op_def_library.py:578 _apply_op_helper\n        param_name=input_name)\n    /home/rjankowski/kopie_bitcoina/venv/lib/python3.6/site-packages/tensorflow/python/framework/op_def_library.py:61 _SatisfiesTypeConstraint\n        \", \".join(dtypes.as_dtype(x).name for x in allowed_list)))\n\n    TypeError: Value passed to parameter 'indices' has DataType float32 not in list of allowed values: int32, int64\n"
     ]
    }
   ],
   "source": [
    "roberta_model(inputs)"
   ]
  },
  {
   "cell_type": "code",
   "execution_count": null,
   "metadata": {},
   "outputs": [],
   "source": [
    "# Collect hidden state representations\n",
    "roberta_encodings = roberta_model(inputs)[0]"
   ]
  },
  {
   "cell_type": "code",
   "execution_count": null,
   "metadata": {},
   "outputs": [],
   "source": [
    "\n",
    "\n",
    "# Collect CLS representations\n",
    "document_encodings = tf.squeeze(roberta_encodings[:, 0:1, :], axis=1)\n",
    "\n",
    "# Add classification layer (Linear + Sigmoid)\n",
    "outputs =  Dense(10, activation='sigmoid')(document_encodings)\n",
    "\n",
    "# Build meta-model\n",
    "model = Model(inputs=[inputs], outputs=[outputs])\n",
    "\n",
    "# Compile model\n",
    "model.compile(optimizer='adam',  loss='binary_crossentropy')\n",
    "\n",
    "# Train model\n",
    "tokenizer = RobertaTokenizer.from_pretrained('roberta-base')\n",
    "x = np.asarray(tokenizer.encode(\"Hello, my dog is cute\", add_special_tokens=True))[None, :]\n",
    "y = tf.convert_to_tensor(np.zeros((1,10)), dtype=tf.float32)\n",
    "model.fit(x, y)"
   ]
  },
  {
   "cell_type": "code",
   "execution_count": null,
   "metadata": {},
   "outputs": [],
   "source": []
  }
 ],
 "metadata": {
  "kernelspec": {
   "display_name": "Python 3",
   "language": "python",
   "name": "python3"
  },
  "language_info": {
   "codemirror_mode": {
    "name": "ipython",
    "version": 3
   },
   "file_extension": ".py",
   "mimetype": "text/x-python",
   "name": "python",
   "nbconvert_exporter": "python",
   "pygments_lexer": "ipython3",
   "version": "3.6.9"
  }
 },
 "nbformat": 4,
 "nbformat_minor": 4
}
